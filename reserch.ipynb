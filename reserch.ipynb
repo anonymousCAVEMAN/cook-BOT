{
 "cells": [
  {
   "cell_type": "code",
   "execution_count": 2,
   "metadata": {},
   "outputs": [
    {
     "name": "stderr",
     "output_type": "stream",
     "text": [
      "e:\\python\\2.PROJECTS\\cook_bot\\venv\\lib\\site-packages\\tqdm\\auto.py:21: TqdmWarning: IProgress not found. Please update jupyter and ipywidgets. See https://ipywidgets.readthedocs.io/en/stable/user_install.html\n",
      "  from .autonotebook import tqdm as notebook_tqdm\n"
     ]
    }
   ],
   "source": [
    "import pandas as pd\n",
    "import numpy as np\n",
    "import seaborn as sns\n",
    "import matplotlib.pyplot as plt\n",
    "from typing import List\n",
    "from langchain_chroma import Chroma\n",
    "from langchain.schema import Document\n",
    "from langchain_core.prompts import ChatPromptTemplate,MessagesPlaceholder,PromptTemplate\n",
    "from langchain.chains import create_retrieval_chain,create_history_aware_retriever # create a chain which will retrieve from a vector database\n",
    "from langchain.chains.combine_documents import create_stuff_documents_chain\n",
    "from langchain_core.output_parsers import StrOutputParser\n",
    "import faiss\n",
    "from langchain.vectorstores import FAISS\n",
    "\n",
    "from typing import List\n",
    "from pydantic import BaseModel, Field\n",
    "\n",
    "import os\n",
    "from dotenv import load_dotenv\n",
    "load_dotenv()\n",
    "from langchain_groq import ChatGroq\n",
    "from langchain_huggingface import HuggingFaceEmbeddings\n",
    "from sentence_transformers import SentenceTransformer"
   ]
  },
  {
   "cell_type": "code",
   "execution_count": 3,
   "metadata": {},
   "outputs": [],
   "source": [
    "df=pd.read_csv(\"data\\\\BigBasket Products.csv\")"
   ]
  },
  {
   "cell_type": "code",
   "execution_count": 4,
   "metadata": {},
   "outputs": [],
   "source": [
    "drop:dict={'category':['Beauty & Hygiene','Kitchen, Garden & Pets','Cleaning & Household','Baby Care'],\n",
    "                   'type':['Children (2-5 Yrs)','Kids (5+Yrs)','Syrups & Concentrates'],\n",
    "                   'sub_category':['Baby Food & Formula','Ready To Cook & Eat'],\n",
    "                   'brand':['Real Activ','Tropicana','Smoodies']}\n",
    "\n",
    "for col,values in drop.items():\n",
    "    df[~df[col].isin(values)]\n",
    "\n",
    "mask = pd.Series(True, index=df.index)\n",
    "\n",
    "# Iterate through the drop dictionary to exclude matching rows\n",
    "for col, values in drop.items():\n",
    "    if col in df.columns:\n",
    "        mask &= ~df[col].isin(values) #Combines the current condition with the existing mask using a logical AND (&), ensuring only rows satisfying all conditions remain\n",
    "\n",
    "# Apply the mask to filter the DataFrame\n",
    "df = df[mask]\n",
    "\n",
    "\n",
    "d=['Beauty & Hygiene','Kitchen, Garden & Pets','Cleaning & Household','Baby Care']\n",
    "df = df[~df[\"category\"].isin(d)]\n",
    "\n",
    "t=['Children (2-5 Yrs)','Kids (5+Yrs)','Syrups & Concentrates']\n",
    "df= df[~df['type'].isin(t)]\n",
    "\n",
    "# sub-cat\n",
    "sc=['Baby Food & Formula','Ready To Cook & Eat']\n",
    "df= df[~df['sub_category'].isin(sc)]\n",
    "\n",
    "# brand\n",
    "b=['Real Activ','Tropicana','Smoodies']\n",
    "df= df[~df['brand'].isin(b)]\n",
    "\n",
    "drop:dict={'category':['Beauty & Hygiene','Kitchen, Garden & Pets','Cleaning & Household','Baby Care'],\n",
    "                   'type':['Children (2-5 Yrs)','Kids (5+Yrs)','Syrups & Concentrates'],\n",
    "                   'sub_category':['Baby Food & Formula','Ready To Cook & Eat'],\n",
    "                   'brand':['Real Activ','Tropicana','Smoodies']}\n",
    "\n",
    "df.drop_duplicates(subset=['product','category','sub_category','brand','type'],inplace=True)\n",
    "\n",
    "df.reset_index(drop=True,inplace=True)\n",
    "df.drop('index',axis=1,inplace=True)\n",
    "\n",
    "filtered_df = df"
   ]
  },
  {
   "cell_type": "code",
   "execution_count": 34,
   "metadata": {},
   "outputs": [],
   "source": [
    "import re\n",
    "product = filtered_df['product']\n",
    "product = product.astype(str)\n",
    "product_list = product.to_list()\n",
    "corpus = []\n",
    "for index,value in enumerate(product_list):\n",
    "    review = re.sub('[^a-zA-Z0-9]', ' ', product_list[index])\n",
    "    review = review.lower()\n",
    "    corpus.append(review)"
   ]
  },
  {
   "cell_type": "code",
   "execution_count": 35,
   "metadata": {},
   "outputs": [
    {
     "data": {
      "text/plain": [
       "11344"
      ]
     },
     "execution_count": 35,
     "metadata": {},
     "output_type": "execute_result"
    }
   ],
   "source": [
    "len(corpus)"
   ]
  },
  {
   "cell_type": "code",
   "execution_count": 36,
   "metadata": {},
   "outputs": [],
   "source": [
    "import pickle\n",
    "with open(\"artifacts/corpus.pkl\", \"wb\") as file:\n",
    "    pickle.dump(corpus, file)"
   ]
  },
  {
   "cell_type": "markdown",
   "metadata": {},
   "source": [
    "# experiment"
   ]
  },
  {
   "cell_type": "code",
   "execution_count": 6,
   "metadata": {},
   "outputs": [],
   "source": [
    "# from src.components.db_feeder import DbCreation\n",
    "\n",
    "# db_create = DbCreation()\n",
    "# vector_store,persist_directory=db_create.initiate_db_creation(filtered_df)"
   ]
  },
  {
   "cell_type": "code",
   "execution_count": 6,
   "metadata": {},
   "outputs": [],
   "source": [
    "import os\n",
    "from langchain_groq import ChatGroq\n",
    "from langchain_huggingface import HuggingFaceEmbeddings\n",
    "os.environ['HF_TOKEN']=os.getenv(\"HF_TOKEN\")\n",
    "embeddings=HuggingFaceEmbeddings(model_name=\"all-MiniLM-L6-v2\")\n",
    "\n",
    "#all-MiniLM-L6-v2\n",
    "#sentence-transformers/all-MPNet-base-v2\n",
    "#sentence-transformers/all-MPNet-base-v2"
   ]
  },
  {
   "cell_type": "markdown",
   "metadata": {},
   "source": [
    "# fiass"
   ]
  },
  {
   "cell_type": "code",
   "execution_count": 13,
   "metadata": {},
   "outputs": [],
   "source": [
    "from sentence_transformers import SentenceTransformer\n",
    "model = SentenceTransformer('all-MiniLM-L6-v2')\n",
    "# embeddings = model.encode(corpus)  # Embeds the entire corpus"
   ]
  },
  {
   "cell_type": "code",
   "execution_count": 4,
   "metadata": {},
   "outputs": [
    {
     "ename": "NameError",
     "evalue": "name 'corpus' is not defined",
     "output_type": "error",
     "traceback": [
      "\u001b[1;31m---------------------------------------------------------------------------\u001b[0m",
      "\u001b[1;31mNameError\u001b[0m                                 Traceback (most recent call last)",
      "Cell \u001b[1;32mIn[4], line 2\u001b[0m\n\u001b[0;32m      1\u001b[0m \u001b[38;5;66;03m# when u want to create we have already created\u001b[39;00m\n\u001b[1;32m----> 2\u001b[0m documents \u001b[38;5;241m=\u001b[39m [Document(page_content\u001b[38;5;241m=\u001b[39mitem) \u001b[38;5;28;01mfor\u001b[39;00m item \u001b[38;5;129;01min\u001b[39;00m \u001b[43mcorpus\u001b[49m]\n\u001b[0;32m      3\u001b[0m db \u001b[38;5;241m=\u001b[39m FAISS\u001b[38;5;241m.\u001b[39mfrom_documents(documents,embeddings)\n",
      "\u001b[1;31mNameError\u001b[0m: name 'corpus' is not defined"
     ]
    }
   ],
   "source": [
    "# when u want to create we have already created\n",
    "documents = [Document(page_content=item) for item in corpus]\n",
    "db = FAISS.from_documents(documents,embeddings)"
   ]
  },
  {
   "cell_type": "code",
   "execution_count": null,
   "metadata": {},
   "outputs": [
    {
     "data": {
      "text/plain": [
       "[(Document(metadata={}, page_content='unbleached all purpose flour'),\n",
       "  0.6803553506139839),\n",
       " (Document(metadata={}, page_content='wheat flour'), 0.6684023568623245),\n",
       " (Document(metadata={}, page_content='corn flour'), 0.6161863101408142),\n",
       " (Document(metadata={}, page_content='rice   flour'), 0.6144316103967601)]"
      ]
     },
     "execution_count": 403,
     "metadata": {},
     "output_type": "execute_result"
    }
   ],
   "source": [
    "db.similarity_search_with_relevance_scores('all-purpose flour')"
   ]
  },
  {
   "cell_type": "code",
   "execution_count": null,
   "metadata": {},
   "outputs": [],
   "source": [
    "# db.save_local(folder_path=\"artifacts/\",index_name=\"products\")"
   ]
  },
  {
   "cell_type": "code",
   "execution_count": 7,
   "metadata": {},
   "outputs": [],
   "source": [
    "# load \n",
    "db_load = FAISS.load_local(folder_path=\"artifacts\",index_name=\"products\",allow_dangerous_deserialization=True,embeddings=embeddings)"
   ]
  },
  {
   "cell_type": "code",
   "execution_count": 15,
   "metadata": {},
   "outputs": [
    {
     "name": "stdout",
     "output_type": "stream",
     "text": [
      "tomato   green 0.7037380428461913\n"
     ]
    },
    {
     "data": {
      "text/plain": [
       "[(Document(metadata={}, page_content='tomato   green'), 0.7037380428461913),\n",
       " (Document(metadata={}, page_content='tomato   cherry'), 0.6640314336438053),\n",
       " (Document(metadata={}, page_content='tomato   cherry'), 0.6640314336438053),\n",
       " (Document(metadata={}, page_content='puree   tomato'), 0.6304929314272916),\n",
       " (Document(metadata={}, page_content='tomato   local'), 0.6288342422041453)]"
      ]
     },
     "execution_count": 15,
     "metadata": {},
     "output_type": "execute_result"
    }
   ],
   "source": [
    "a= db_load.similarity_search_with_relevance_scores('tomato',k=5)\n",
    "# document = a[0][0].\n",
    "# score = a[0][1]\n",
    "page_content = a[0][0].page_content\n",
    "score = a[0][1]\n",
    "print(page_content,score)\n",
    "a"
   ]
  },
  {
   "cell_type": "code",
   "execution_count": 79,
   "metadata": {},
   "outputs": [
    {
     "data": {
      "text/plain": [
       "0.7490340195841223"
      ]
     },
     "execution_count": 79,
     "metadata": {},
     "output_type": "execute_result"
    }
   ],
   "source": [
    "score"
   ]
  },
  {
   "cell_type": "code",
   "execution_count": 7,
   "metadata": {},
   "outputs": [],
   "source": [
    "retrievar = db_load.as_retriever()"
   ]
  },
  {
   "cell_type": "code",
   "execution_count": 8,
   "metadata": {},
   "outputs": [
    {
     "data": {
      "text/plain": [
       "VectorStoreRetriever(tags=['FAISS', 'HuggingFaceEmbeddings'], vectorstore=<langchain_community.vectorstores.faiss.FAISS object at 0x000001DBC1EEE140>, search_kwargs={})"
      ]
     },
     "execution_count": 8,
     "metadata": {},
     "output_type": "execute_result"
    }
   ],
   "source": [
    "retrievar"
   ]
  },
  {
   "cell_type": "code",
   "execution_count": 9,
   "metadata": {},
   "outputs": [],
   "source": [
    "# embeddings = np.array(embeddings).astype('float32')\n",
    "# #  Normalize embeddings for cosine similarity\n",
    "# embeddings /= np.linalg.norm(embeddings, axis=1, keepdims=True)\n",
    "# dim = embeddings.shape[1]"
   ]
  },
  {
   "cell_type": "code",
   "execution_count": 10,
   "metadata": {},
   "outputs": [],
   "source": [
    "# vector_store= faiss.IndexFlatL2(dim)"
   ]
  },
  {
   "cell_type": "code",
   "execution_count": 11,
   "metadata": {},
   "outputs": [],
   "source": [
    "# vector_store.add(embeddings)"
   ]
  },
  {
   "cell_type": "code",
   "execution_count": 12,
   "metadata": {},
   "outputs": [],
   "source": [
    "# faiss.write_index(vector_store, 'artifacts/vector_store.index')"
   ]
  },
  {
   "cell_type": "markdown",
   "metadata": {},
   "source": [
    "## another method for fiass"
   ]
  },
  {
   "cell_type": "code",
   "execution_count": 6,
   "metadata": {},
   "outputs": [],
   "source": [
    "import faiss\n",
    "vector_store_read = faiss.read_index('artifacts/vector_store.index')"
   ]
  },
  {
   "cell_type": "code",
   "execution_count": 41,
   "metadata": {},
   "outputs": [],
   "source": [
    "import numpy as np\n",
    "import pandas as pd\n",
    "def similarity_search(query, top_k):\n",
    "    query_embedding = model.encode([query])\n",
    "    query_embedding = np.array(query_embedding).astype('float32')\n",
    "    query_embedding /= np.linalg.norm(query_embedding, axis=1, keepdims=True)\n",
    "    dim = query_embedding.shape[1]\n",
    "\n",
    "    result= vector_store_read.search(query_embedding, top_k)\n",
    "    return result"
   ]
  },
  {
   "cell_type": "code",
   "execution_count": null,
   "metadata": {},
   "outputs": [
    {
     "name": "stdout",
     "output_type": "stream",
     "text": [
      "[[0.3810705  0.46213353 0.47988397 0.48674577 0.50859475 0.52341664\n",
      "  0.53061163 0.55082136 0.5580959  0.5592432  0.5631994  0.56598353\n",
      "  0.56598353 0.5791143  0.6068146 ]]\n",
      "[[10178  9261  1232 11335 10120  8414  8112  7743  1722  5838  1525   611\n",
      "  10624  3692  6925]]\n"
     ]
    },
    {
     "data": {
      "text/html": [
       "<div>\n",
       "<style scoped>\n",
       "    .dataframe tbody tr th:only-of-type {\n",
       "        vertical-align: middle;\n",
       "    }\n",
       "\n",
       "    .dataframe tbody tr th {\n",
       "        vertical-align: top;\n",
       "    }\n",
       "\n",
       "    .dataframe thead th {\n",
       "        text-align: right;\n",
       "    }\n",
       "</style>\n",
       "<table border=\"1\" class=\"dataframe\">\n",
       "  <thead>\n",
       "    <tr style=\"text-align: right;\">\n",
       "      <th></th>\n",
       "      <th>product</th>\n",
       "      <th>category</th>\n",
       "      <th>sub_category</th>\n",
       "      <th>brand</th>\n",
       "      <th>sale_price</th>\n",
       "      <th>market_price</th>\n",
       "      <th>type</th>\n",
       "      <th>rating</th>\n",
       "      <th>description</th>\n",
       "    </tr>\n",
       "  </thead>\n",
       "  <tbody>\n",
       "    <tr>\n",
       "      <th>10178</th>\n",
       "      <td>Ice Cream - Vanilla</td>\n",
       "      <td>Gourmet &amp; World Food</td>\n",
       "      <td>Dairy &amp; Cheese</td>\n",
       "      <td>Haagen-Dazs</td>\n",
       "      <td>750.00</td>\n",
       "      <td>750.0</td>\n",
       "      <td>Gourmet Ice Cream</td>\n",
       "      <td>NaN</td>\n",
       "      <td>Vanilla ice cream prepared with new cream and ...</td>\n",
       "    </tr>\n",
       "    <tr>\n",
       "      <th>9261</th>\n",
       "      <td>Tea - Vanilla</td>\n",
       "      <td>Beverages</td>\n",
       "      <td>Tea</td>\n",
       "      <td>Pukka</td>\n",
       "      <td>450.00</td>\n",
       "      <td>450.0</td>\n",
       "      <td>Tea Bags</td>\n",
       "      <td>5.0</td>\n",
       "      <td>Caffeine-free vanilla chai with sweet, warming...</td>\n",
       "    </tr>\n",
       "    <tr>\n",
       "      <th>1232</th>\n",
       "      <td>Vanilla Powder</td>\n",
       "      <td>Gourmet &amp; World Food</td>\n",
       "      <td>Cooking &amp; Baking Needs</td>\n",
       "      <td>Puramate</td>\n",
       "      <td>31.50</td>\n",
       "      <td>35.0</td>\n",
       "      <td>Baking, Cake Decorations</td>\n",
       "      <td>5.0</td>\n",
       "      <td>Vanilla Powder Deluxe is primarily used as a f...</td>\n",
       "    </tr>\n",
       "    <tr>\n",
       "      <th>11335</th>\n",
       "      <td>Vanilla Ice Cream</td>\n",
       "      <td>Gourmet &amp; World Food</td>\n",
       "      <td>Dairy &amp; Cheese</td>\n",
       "      <td>Haagen-Dazs</td>\n",
       "      <td>225.00</td>\n",
       "      <td>225.0</td>\n",
       "      <td>Gourmet Ice Cream</td>\n",
       "      <td>NaN</td>\n",
       "      <td>Some things are so good in their simplest form...</td>\n",
       "    </tr>\n",
       "    <tr>\n",
       "      <th>10120</th>\n",
       "      <td>Flavoured Milk - Vanilla</td>\n",
       "      <td>Bakery, Cakes &amp; Dairy</td>\n",
       "      <td>Dairy</td>\n",
       "      <td>Heritage</td>\n",
       "      <td>96.00</td>\n",
       "      <td>100.0</td>\n",
       "      <td>Flavoured, Soya Milk</td>\n",
       "      <td>4.0</td>\n",
       "      <td>Heritage Vanilla Flavored Milk is wonderful to...</td>\n",
       "    </tr>\n",
       "    <tr>\n",
       "      <th>8414</th>\n",
       "      <td>Vanilla Dew</td>\n",
       "      <td>Bakery, Cakes &amp; Dairy</td>\n",
       "      <td>Cookies, Rusk &amp; Khari</td>\n",
       "      <td>Milk Ma</td>\n",
       "      <td>30.00</td>\n",
       "      <td>30.0</td>\n",
       "      <td>Bakery Biscuits, Cookies</td>\n",
       "      <td>3.9</td>\n",
       "      <td>Milkma Vanilla Dew are vanilla flavoured littl...</td>\n",
       "    </tr>\n",
       "    <tr>\n",
       "      <th>8112</th>\n",
       "      <td>Milkshake- Vanilla</td>\n",
       "      <td>Bakery, Cakes &amp; Dairy</td>\n",
       "      <td>Dairy</td>\n",
       "      <td>Cavins</td>\n",
       "      <td>172.80</td>\n",
       "      <td>210.0</td>\n",
       "      <td>Flavoured, Soya Milk</td>\n",
       "      <td>4.3</td>\n",
       "      <td>The soothing aroma of vanilla with its sweet a...</td>\n",
       "    </tr>\n",
       "    <tr>\n",
       "      <th>7743</th>\n",
       "      <td>Ice Cream - Vanilla, Premium</td>\n",
       "      <td>Gourmet &amp; World Food</td>\n",
       "      <td>Dairy &amp; Cheese</td>\n",
       "      <td>London Dairy</td>\n",
       "      <td>140.00</td>\n",
       "      <td>140.0</td>\n",
       "      <td>Gourmet Ice Cream</td>\n",
       "      <td>NaN</td>\n",
       "      <td>Crafted with the finest, most fragrant vanilla...</td>\n",
       "    </tr>\n",
       "    <tr>\n",
       "      <th>1722</th>\n",
       "      <td>Milk Shake - Vanilla</td>\n",
       "      <td>Bakery, Cakes &amp; Dairy</td>\n",
       "      <td>Dairy</td>\n",
       "      <td>Milky Mist</td>\n",
       "      <td>20.10</td>\n",
       "      <td>30.0</td>\n",
       "      <td>Flavoured, Soya Milk</td>\n",
       "      <td>4.1</td>\n",
       "      <td>The thick and smooth taste of this creamy Milk...</td>\n",
       "    </tr>\n",
       "    <tr>\n",
       "      <th>5838</th>\n",
       "      <td>Vanilla Beans</td>\n",
       "      <td>Gourmet &amp; World Food</td>\n",
       "      <td>Cooking &amp; Baking Needs</td>\n",
       "      <td>Sprig</td>\n",
       "      <td>664.05</td>\n",
       "      <td>699.0</td>\n",
       "      <td>Baking, Cake Decorations</td>\n",
       "      <td>4.4</td>\n",
       "      <td>Vanilla, with its amazing flavour profile, can...</td>\n",
       "    </tr>\n",
       "    <tr>\n",
       "      <th>1525</th>\n",
       "      <td>Vanilla Drop</td>\n",
       "      <td>Foodgrains, Oil &amp; Masala</td>\n",
       "      <td>Masalas &amp; Spices</td>\n",
       "      <td>Spice Liquid</td>\n",
       "      <td>645.00</td>\n",
       "      <td>645.0</td>\n",
       "      <td>Whole Spices</td>\n",
       "      <td>NaN</td>\n",
       "      <td>Spice Liquid Vanilla Drop is an all-natural bl...</td>\n",
       "    </tr>\n",
       "    <tr>\n",
       "      <th>611</th>\n",
       "      <td>Vanilla Sugar</td>\n",
       "      <td>Gourmet &amp; World Food</td>\n",
       "      <td>Cooking &amp; Baking Needs</td>\n",
       "      <td>Sprig</td>\n",
       "      <td>449.00</td>\n",
       "      <td>449.0</td>\n",
       "      <td>Exotic Sugar &amp; Salt</td>\n",
       "      <td>4.3</td>\n",
       "      <td>Sprigs Real Vanilla Sugar, invites all vanilla...</td>\n",
       "    </tr>\n",
       "    <tr>\n",
       "      <th>10624</th>\n",
       "      <td>Vanilla Sugar</td>\n",
       "      <td>Gourmet &amp; World Food</td>\n",
       "      <td>Cooking &amp; Baking Needs</td>\n",
       "      <td>Puramate</td>\n",
       "      <td>43.20</td>\n",
       "      <td>48.0</td>\n",
       "      <td>Exotic Sugar &amp; Salt</td>\n",
       "      <td>2.0</td>\n",
       "      <td>Vanilla Sugar is a sweet sugar with a special ...</td>\n",
       "    </tr>\n",
       "    <tr>\n",
       "      <th>3692</th>\n",
       "      <td>Ice Cream - Vanilla Lite</td>\n",
       "      <td>Gourmet &amp; World Food</td>\n",
       "      <td>Dairy &amp; Cheese</td>\n",
       "      <td>London Dairy</td>\n",
       "      <td>450.00</td>\n",
       "      <td>450.0</td>\n",
       "      <td>Gourmet Ice Cream</td>\n",
       "      <td>NaN</td>\n",
       "      <td>With 50% less fat and No Added Sugar, the Vani...</td>\n",
       "    </tr>\n",
       "    <tr>\n",
       "      <th>6925</th>\n",
       "      <td>Vanilla Milkshake</td>\n",
       "      <td>Bakery, Cakes &amp; Dairy</td>\n",
       "      <td>Dairy</td>\n",
       "      <td>Amul</td>\n",
       "      <td>180.00</td>\n",
       "      <td>200.0</td>\n",
       "      <td>Flavoured, Soya Milk</td>\n",
       "      <td>5.0</td>\n",
       "      <td>Amul presents its signature vanilla milkshake ...</td>\n",
       "    </tr>\n",
       "  </tbody>\n",
       "</table>\n",
       "</div>"
      ],
      "text/plain": [
       "                            product                  category  \\\n",
       "10178           Ice Cream - Vanilla      Gourmet & World Food   \n",
       "9261                  Tea - Vanilla                 Beverages   \n",
       "1232                 Vanilla Powder      Gourmet & World Food   \n",
       "11335             Vanilla Ice Cream      Gourmet & World Food   \n",
       "10120      Flavoured Milk - Vanilla     Bakery, Cakes & Dairy   \n",
       "8414                    Vanilla Dew     Bakery, Cakes & Dairy   \n",
       "8112             Milkshake- Vanilla     Bakery, Cakes & Dairy   \n",
       "7743   Ice Cream - Vanilla, Premium      Gourmet & World Food   \n",
       "1722           Milk Shake - Vanilla     Bakery, Cakes & Dairy   \n",
       "5838                  Vanilla Beans      Gourmet & World Food   \n",
       "1525                   Vanilla Drop  Foodgrains, Oil & Masala   \n",
       "611                   Vanilla Sugar      Gourmet & World Food   \n",
       "10624                 Vanilla Sugar      Gourmet & World Food   \n",
       "3692       Ice Cream - Vanilla Lite      Gourmet & World Food   \n",
       "6925              Vanilla Milkshake     Bakery, Cakes & Dairy   \n",
       "\n",
       "                 sub_category         brand  sale_price  market_price  \\\n",
       "10178          Dairy & Cheese   Haagen-Dazs      750.00         750.0   \n",
       "9261                      Tea         Pukka      450.00         450.0   \n",
       "1232   Cooking & Baking Needs      Puramate       31.50          35.0   \n",
       "11335          Dairy & Cheese   Haagen-Dazs      225.00         225.0   \n",
       "10120                   Dairy      Heritage       96.00         100.0   \n",
       "8414    Cookies, Rusk & Khari       Milk Ma       30.00          30.0   \n",
       "8112                    Dairy        Cavins      172.80         210.0   \n",
       "7743           Dairy & Cheese  London Dairy      140.00         140.0   \n",
       "1722                    Dairy    Milky Mist       20.10          30.0   \n",
       "5838   Cooking & Baking Needs         Sprig      664.05         699.0   \n",
       "1525         Masalas & Spices  Spice Liquid      645.00         645.0   \n",
       "611    Cooking & Baking Needs         Sprig      449.00         449.0   \n",
       "10624  Cooking & Baking Needs      Puramate       43.20          48.0   \n",
       "3692           Dairy & Cheese  London Dairy      450.00         450.0   \n",
       "6925                    Dairy          Amul      180.00         200.0   \n",
       "\n",
       "                           type  rating  \\\n",
       "10178         Gourmet Ice Cream     NaN   \n",
       "9261                   Tea Bags     5.0   \n",
       "1232   Baking, Cake Decorations     5.0   \n",
       "11335         Gourmet Ice Cream     NaN   \n",
       "10120      Flavoured, Soya Milk     4.0   \n",
       "8414   Bakery Biscuits, Cookies     3.9   \n",
       "8112       Flavoured, Soya Milk     4.3   \n",
       "7743          Gourmet Ice Cream     NaN   \n",
       "1722       Flavoured, Soya Milk     4.1   \n",
       "5838   Baking, Cake Decorations     4.4   \n",
       "1525               Whole Spices     NaN   \n",
       "611         Exotic Sugar & Salt     4.3   \n",
       "10624       Exotic Sugar & Salt     2.0   \n",
       "3692          Gourmet Ice Cream     NaN   \n",
       "6925       Flavoured, Soya Milk     5.0   \n",
       "\n",
       "                                             description  \n",
       "10178  Vanilla ice cream prepared with new cream and ...  \n",
       "9261   Caffeine-free vanilla chai with sweet, warming...  \n",
       "1232   Vanilla Powder Deluxe is primarily used as a f...  \n",
       "11335  Some things are so good in their simplest form...  \n",
       "10120  Heritage Vanilla Flavored Milk is wonderful to...  \n",
       "8414   Milkma Vanilla Dew are vanilla flavoured littl...  \n",
       "8112   The soothing aroma of vanilla with its sweet a...  \n",
       "7743   Crafted with the finest, most fragrant vanilla...  \n",
       "1722   The thick and smooth taste of this creamy Milk...  \n",
       "5838   Vanilla, with its amazing flavour profile, can...  \n",
       "1525   Spice Liquid Vanilla Drop is an all-natural bl...  \n",
       "611    Sprigs Real Vanilla Sugar, invites all vanilla...  \n",
       "10624  Vanilla Sugar is a sweet sugar with a special ...  \n",
       "3692   With 50% less fat and No Added Sugar, the Vani...  \n",
       "6925   Amul presents its signature vanilla milkshake ...  "
      ]
     },
     "execution_count": 392,
     "metadata": {},
     "output_type": "execute_result"
    }
   ],
   "source": [
    "query = 'vanilla'\n",
    "score,row = similarity_search(query,15)\n",
    "print(score)\n",
    "print(row)\n",
    "filtered_df.loc[row[0]]"
   ]
  },
  {
   "cell_type": "code",
   "execution_count": 384,
   "metadata": {},
   "outputs": [
    {
     "name": "stdout",
     "output_type": "stream",
     "text": [
      "[[0.33338588 0.4388485  0.4480163 ]]\n",
      "[[ 460 9128 5002]]\n"
     ]
    }
   ],
   "source": [
    "query = 'milk'\n",
    "score,row = similarity_search(query,3)\n",
    "print(score)\n",
    "print(row)"
   ]
  },
  {
   "cell_type": "code",
   "execution_count": 385,
   "metadata": {},
   "outputs": [
    {
     "data": {
      "text/html": [
       "<div>\n",
       "<style scoped>\n",
       "    .dataframe tbody tr th:only-of-type {\n",
       "        vertical-align: middle;\n",
       "    }\n",
       "\n",
       "    .dataframe tbody tr th {\n",
       "        vertical-align: top;\n",
       "    }\n",
       "\n",
       "    .dataframe thead th {\n",
       "        text-align: right;\n",
       "    }\n",
       "</style>\n",
       "<table border=\"1\" class=\"dataframe\">\n",
       "  <thead>\n",
       "    <tr style=\"text-align: right;\">\n",
       "      <th></th>\n",
       "      <th>product</th>\n",
       "      <th>category</th>\n",
       "      <th>sub_category</th>\n",
       "      <th>brand</th>\n",
       "      <th>sale_price</th>\n",
       "      <th>market_price</th>\n",
       "      <th>type</th>\n",
       "      <th>rating</th>\n",
       "      <th>description</th>\n",
       "    </tr>\n",
       "  </thead>\n",
       "  <tbody>\n",
       "    <tr>\n",
       "      <th>460</th>\n",
       "      <td>Chocolate - Milk</td>\n",
       "      <td>Gourmet &amp; World Food</td>\n",
       "      <td>Cooking &amp; Baking Needs</td>\n",
       "      <td>Ask Foods</td>\n",
       "      <td>85.0</td>\n",
       "      <td>85.0</td>\n",
       "      <td>Cooking Chocolate, Cocoa</td>\n",
       "      <td>4.0</td>\n",
       "      <td>Chocolate compounds for making chocolate &amp; Cakes.</td>\n",
       "    </tr>\n",
       "    <tr>\n",
       "      <th>9128</th>\n",
       "      <td>Bread - Milk</td>\n",
       "      <td>Bakery, Cakes &amp; Dairy</td>\n",
       "      <td>Breads &amp; Buns</td>\n",
       "      <td>English Oven</td>\n",
       "      <td>40.0</td>\n",
       "      <td>40.0</td>\n",
       "      <td>Milk, White &amp; Sandwich</td>\n",
       "      <td>NaN</td>\n",
       "      <td>Perfectly baked &amp; fresh</td>\n",
       "    </tr>\n",
       "    <tr>\n",
       "      <th>5002</th>\n",
       "      <td>Milk Chocolate</td>\n",
       "      <td>Gourmet &amp; World Food</td>\n",
       "      <td>Chocolates &amp; Biscuits</td>\n",
       "      <td>Hershey's Kisses</td>\n",
       "      <td>650.0</td>\n",
       "      <td>650.0</td>\n",
       "      <td>International Chocolates</td>\n",
       "      <td>4.0</td>\n",
       "      <td>Make birthday parties, wedding showers, and ot...</td>\n",
       "    </tr>\n",
       "  </tbody>\n",
       "</table>\n",
       "</div>"
      ],
      "text/plain": [
       "               product               category            sub_category  \\\n",
       "460   Chocolate - Milk   Gourmet & World Food  Cooking & Baking Needs   \n",
       "9128      Bread - Milk  Bakery, Cakes & Dairy           Breads & Buns   \n",
       "5002    Milk Chocolate   Gourmet & World Food   Chocolates & Biscuits   \n",
       "\n",
       "                 brand  sale_price  market_price                      type  \\\n",
       "460          Ask Foods        85.0          85.0  Cooking Chocolate, Cocoa   \n",
       "9128      English Oven        40.0          40.0    Milk, White & Sandwich   \n",
       "5002  Hershey's Kisses       650.0         650.0  International Chocolates   \n",
       "\n",
       "      rating                                        description  \n",
       "460      4.0  Chocolate compounds for making chocolate & Cakes.  \n",
       "9128     NaN                            Perfectly baked & fresh  \n",
       "5002     4.0  Make birthday parties, wedding showers, and ot...  "
      ]
     },
     "execution_count": 385,
     "metadata": {},
     "output_type": "execute_result"
    }
   ],
   "source": [
    "filtered_df.loc[row[0]]"
   ]
  },
  {
   "cell_type": "code",
   "execution_count": 223,
   "metadata": {},
   "outputs": [
    {
     "name": "stdout",
     "output_type": "stream",
     "text": [
      "[0.45204583 0.46894988 0.5427946 ]\n",
      "[9048 8852 4911]\n"
     ]
    }
   ],
   "source": [
    "\n",
    "query = 'all-purpose flour'\n",
    "score,row = similarity_search(query,3)\n",
    "print(score[0])\n",
    "print(row[0])"
   ]
  },
  {
   "cell_type": "code",
   "execution_count": 224,
   "metadata": {},
   "outputs": [
    {
     "data": {
      "text/html": [
       "<div>\n",
       "<style scoped>\n",
       "    .dataframe tbody tr th:only-of-type {\n",
       "        vertical-align: middle;\n",
       "    }\n",
       "\n",
       "    .dataframe tbody tr th {\n",
       "        vertical-align: top;\n",
       "    }\n",
       "\n",
       "    .dataframe thead th {\n",
       "        text-align: right;\n",
       "    }\n",
       "</style>\n",
       "<table border=\"1\" class=\"dataframe\">\n",
       "  <thead>\n",
       "    <tr style=\"text-align: right;\">\n",
       "      <th></th>\n",
       "      <th>product</th>\n",
       "      <th>category</th>\n",
       "      <th>sub_category</th>\n",
       "      <th>brand</th>\n",
       "      <th>sale_price</th>\n",
       "      <th>market_price</th>\n",
       "      <th>type</th>\n",
       "      <th>rating</th>\n",
       "      <th>description</th>\n",
       "    </tr>\n",
       "  </thead>\n",
       "  <tbody>\n",
       "    <tr>\n",
       "      <th>9048</th>\n",
       "      <td>Unbleached All Purpose Flour</td>\n",
       "      <td>Gourmet &amp; World Food</td>\n",
       "      <td>Cooking &amp; Baking Needs</td>\n",
       "      <td>American Pancake Co.</td>\n",
       "      <td>166.5</td>\n",
       "      <td>185.0</td>\n",
       "      <td>Flours &amp; Pre-Mixes</td>\n",
       "      <td>4.6</td>\n",
       "      <td>At the American Pancake Co. we are all about m...</td>\n",
       "    </tr>\n",
       "    <tr>\n",
       "      <th>8852</th>\n",
       "      <td>Wheat Flour</td>\n",
       "      <td>Foodgrains, Oil &amp; Masala</td>\n",
       "      <td>Atta, Flours &amp; Sooji</td>\n",
       "      <td>Super Saver</td>\n",
       "      <td>686.0</td>\n",
       "      <td>800.0</td>\n",
       "      <td>Atta Whole Wheat</td>\n",
       "      <td>NaN</td>\n",
       "      <td>Atta is made from the choicest grains - heavy ...</td>\n",
       "    </tr>\n",
       "    <tr>\n",
       "      <th>4911</th>\n",
       "      <td>Corn Flour</td>\n",
       "      <td>Gourmet &amp; World Food</td>\n",
       "      <td>Cooking &amp; Baking Needs</td>\n",
       "      <td>Puramate</td>\n",
       "      <td>22.5</td>\n",
       "      <td>25.0</td>\n",
       "      <td>Flours &amp; Pre-Mixes</td>\n",
       "      <td>4.3</td>\n",
       "      <td>Puramate Corn flour blends easily with liquids...</td>\n",
       "    </tr>\n",
       "  </tbody>\n",
       "</table>\n",
       "</div>"
      ],
      "text/plain": [
       "                           product                  category  \\\n",
       "9048  Unbleached All Purpose Flour      Gourmet & World Food   \n",
       "8852                   Wheat Flour  Foodgrains, Oil & Masala   \n",
       "4911                    Corn Flour      Gourmet & World Food   \n",
       "\n",
       "                sub_category                 brand  sale_price  market_price  \\\n",
       "9048  Cooking & Baking Needs  American Pancake Co.       166.5         185.0   \n",
       "8852    Atta, Flours & Sooji           Super Saver       686.0         800.0   \n",
       "4911  Cooking & Baking Needs              Puramate        22.5          25.0   \n",
       "\n",
       "                    type  rating  \\\n",
       "9048  Flours & Pre-Mixes     4.6   \n",
       "8852    Atta Whole Wheat     NaN   \n",
       "4911  Flours & Pre-Mixes     4.3   \n",
       "\n",
       "                                            description  \n",
       "9048  At the American Pancake Co. we are all about m...  \n",
       "8852  Atta is made from the choicest grains - heavy ...  \n",
       "4911  Puramate Corn flour blends easily with liquids...  "
      ]
     },
     "execution_count": 224,
     "metadata": {},
     "output_type": "execute_result"
    }
   ],
   "source": [
    "df.loc[row[0]]"
   ]
  },
  {
   "cell_type": "code",
   "execution_count": 9,
   "metadata": {},
   "outputs": [
    {
     "data": {
      "text/plain": [
       "ChatGroq(client=<groq.resources.chat.completions.Completions object at 0x0000024F2F79AB60>, async_client=<groq.resources.chat.completions.AsyncCompletions object at 0x0000024F2F7998D0>, model_name='llama-3.1-70b-versatile', model_kwargs={}, groq_api_key=SecretStr('**********'))"
      ]
     },
     "execution_count": 9,
     "metadata": {},
     "output_type": "execute_result"
    }
   ],
   "source": [
    "groq_api_key=os.getenv(\"GROQ_API_KEY\")\n",
    "\n",
    "llm=ChatGroq(groq_api_key=groq_api_key,model_name=\"llama-3.1-70b-versatile\")\n",
    "\n",
    "llm"
   ]
  },
  {
   "cell_type": "code",
   "execution_count": null,
   "metadata": {},
   "outputs": [],
   "source": []
  },
  {
   "cell_type": "markdown",
   "metadata": {},
   "source": [
    "# chat bot\n"
   ]
  },
  {
   "cell_type": "code",
   "execution_count": 10,
   "metadata": {},
   "outputs": [
    {
     "data": {
      "text/plain": [
       "'{\\n    \"name\": \"Classic Vanilla Cake\",\\n    \"ingredients\": [\\n        \"all-purpose flour\",\\n        \"baking powder\",\\n        \"baking soda\",\\n        \"salt\",\\n        \"granulated sugar\",\\n        \"unsalted butter\",\\n        \"large eggs\",\\n        \"vanilla extract\",\\n        \"milk\"\\n    ],\\n    \"items\": [\\n        \"9-inch round cake pans\",\\n        \"non-stick cooking spray\",\\n        \"mixing bowls\",\\n        \"measuring cups\",\\n        \"electric mixer\",\\n        \"whisk\",\\n        \"rubber spatula\"\\n    ],\\n    \"instructions\": \"Here\\'s a step-by-step guide to baking a classic vanilla cake:\\\\n\\\\n1. Preheat the oven to 350°F (175°C) and prepare two 9-inch round cake pans with non-stick cooking spray.\\\\n\\\\n2. In a medium-sized bowl, whisk together 2 1/4 cups of all-purpose flour, 2 teaspoons of baking powder, 1 teaspoon of baking soda, and 1 teaspoon of salt. Set aside.\\\\n\\\\n3. In a large mixing bowl, use an electric mixer to cream together 1 cup of unsalted butter and 1 3/4 cups of granulated sugar until light and fluffy.\\\\n\\\\n4. Beat in 3 large eggs one at a time, allowing each egg to fully incorporate before adding the next.\\\\n\\\\n5. Beat in 2 teaspoons of vanilla extract.\\\\n\\\\n6. With the mixer on low speed, gradually add the flour mixture to the wet ingredients in three parts, alternating with 1 cup of milk, beginning and ending with the flour mixture. Beat just until combined.\\\\n\\\\n7. Divide the batter evenly between the prepared pans and smooth the tops.\\\\n\\\\n8. Bake for 30-35 minutes, or until a toothpick inserted into the center of each cake comes out clean.\\\\n\\\\n9. Remove the cakes from the oven and let them cool in the pans for 10 minutes before transferring them to a wire rack to cool completely.\",\\n    \"prep_time\": \"20-25 minutes\",\\n    \"cook_time\": \"30-35 minutes\",\\n    \"total_time\": \"50-60 minutes\"\\n}'"
      ]
     },
     "execution_count": 10,
     "metadata": {},
     "output_type": "execute_result"
    }
   ],
   "source": [
    "#please dont provide any measurement, u messed up flour and all purpose flour be carefull\n",
    "qa_prompt = ChatPromptTemplate.from_messages([\n",
    "    (\"system\", '''\n",
    "     \"u are a helpful ai assitant, provide \"\n",
    "     \"name\": \"Recipe Name\",\n",
    "            \"ingredients\": [\"Ingredient 1\", \"Ingredient 2\"] ,\n",
    "            \"items\" :[\"Ingredient 1\", \"Ingredient 2\"] provide without quantity,dont mess up all-purpose flour with flour)\n",
    "            \"instructions\": \"Step-by-step instructions.\",\n",
    "            \"prep_time\": as suggested\n",
    "     instructions and ingredients to cook a recipe strictly in json format '''),\n",
    "    (\"human\", \"{input}\")\n",
    "])\n",
    "# dont trasnform any name of ingredient in item list u messed up flour and all purpose flour be carefull\n",
    "\n",
    "chain = qa_prompt | llm \n",
    "result1 = chain.invoke({\"input\":\"how to bake cake\"})\n",
    "\n",
    "response1 = result1.content\n",
    "response1"
   ]
  },
  {
   "cell_type": "code",
   "execution_count": 182,
   "metadata": {},
   "outputs": [],
   "source": [
    "# rag output is bullshit\n",
    "\n",
    "# system_prompt = ('''\n",
    "#     \"you are a assistant for cooking task.\"\n",
    "#     \"Use the following pieces of retrieved context to provide ingredients \"\n",
    "#     \"also recommend the cooking intrutions\"\n",
    "#     \"recommend items from the context \"\n",
    "#     \"instructions and ingredients to cook a recipe strictly in json format \"\n",
    "#             \"name\": \"Recipe Name\",\n",
    "#             \"ingredients\": [\"Ingredient 1\", \"Ingredient 2\"] ,\n",
    "#             \"items\" :[\"Ingredient 1\", \"Ingredient 2\"] (only without measurement, u messed up flour and all purpose flour be carefull),\n",
    "#             \"instructions\": \"Step-by-step instructions.\",\n",
    "#             \"prep_time\": \"as suggested\"\n",
    "#     \"\\n\\n\"\n",
    "#     \"{context}\" in the provided context  are items of a supermarket and we are creating a item recommender system \n",
    "#                  '''\n",
    "# )\n",
    "\n",
    "\n",
    "# prompt = ChatPromptTemplate.from_messages(\n",
    "#     [\n",
    "#         (\"system\",system_prompt),\n",
    "#         (\"human\",\"{input}\") # during invke input will be a key and the quesiton to the llm will be value\n",
    "#     ]\n",
    "# )\n",
    "# retrievar.search_kwargs = {\"k\": 10}\n",
    "# question_answer_chain = create_stuff_documents_chain(llm,prompt)\n",
    "# rag_chain = create_retrieval_chain(retrievar,question_answer_chain)\n",
    "\n",
    "# result2 = rag_chain.invoke({\"input\":\"how to cook pizza\"})\n",
    "\n",
    "\n"
   ]
  },
  {
   "cell_type": "code",
   "execution_count": 183,
   "metadata": {},
   "outputs": [],
   "source": [
    "# class revie_response(BaseModel):\n",
    "#         food_item: str = Field(description=\"Name of the food item\")\n",
    "#         recipe: str = Field(description=\"\")\n",
    "#         ingredients:list [str] = Field(description=\"list of only ingredients \")\n",
    "#         cons: str = Field(description=\"a quick and short explanation of recipe\")\n",
    "\n",
    "# structured_llm = llm.with_structured_output(revie_response)\n",
    "# output = structured_llm.invoke(response)\n",
    "# print(output)"
   ]
  },
  {
   "cell_type": "code",
   "execution_count": 11,
   "metadata": {},
   "outputs": [
    {
     "name": "stdout",
     "output_type": "stream",
     "text": [
      "Parsed Recipe: {'name': 'Classic Vanilla Cake', 'ingredients': ['all-purpose flour', 'baking powder', 'baking soda', 'salt', 'granulated sugar', 'unsalted butter', 'large eggs', 'vanilla extract', 'milk'], 'items': ['9-inch round cake pans', 'non-stick cooking spray', 'mixing bowls', 'measuring cups', 'electric mixer', 'whisk', 'rubber spatula'], 'instructions': \"Here's a step-by-step guide to baking a classic vanilla cake:\\n\\n1. Preheat the oven to 350°F (175°C) and prepare two 9-inch round cake pans with non-stick cooking spray.\\n\\n2. In a medium-sized bowl, whisk together 2 1/4 cups of all-purpose flour, 2 teaspoons of baking powder, 1 teaspoon of baking soda, and 1 teaspoon of salt. Set aside.\\n\\n3. In a large mixing bowl, use an electric mixer to cream together 1 cup of unsalted butter and 1 3/4 cups of granulated sugar until light and fluffy.\\n\\n4. Beat in 3 large eggs one at a time, allowing each egg to fully incorporate before adding the next.\\n\\n5. Beat in 2 teaspoons of vanilla extract.\\n\\n6. With the mixer on low speed, gradually add the flour mixture to the wet ingredients in three parts, alternating with 1 cup of milk, beginning and ending with the flour mixture. Beat just until combined.\\n\\n7. Divide the batter evenly between the prepared pans and smooth the tops.\\n\\n8. Bake for 30-35 minutes, or until a toothpick inserted into the center of each cake comes out clean.\\n\\n9. Remove the cakes from the oven and let them cool in the pans for 10 minutes before transferring them to a wire rack to cool completely.\", 'prep_time': '20-25 minutes', 'cook_time': '30-35 minutes', 'total_time': '50-60 minutes'}\n"
     ]
    }
   ],
   "source": [
    "import json\n",
    "import re\n",
    "def json_response(response):\n",
    "        json_match = re.search(r\"{.*}\", response, re.DOTALL)\n",
    "        if json_match:\n",
    "                cleaned_output = json_match.group()\n",
    "                recipe = json.loads(cleaned_output)\n",
    "                print(\"Parsed Recipe:\", recipe)\n",
    "        else:\n",
    "                print(\"No JSON found!\") \n",
    "        return recipe\n",
    "recipe = json_response(response=response1)"
   ]
  },
  {
   "cell_type": "code",
   "execution_count": 12,
   "metadata": {},
   "outputs": [
    {
     "data": {
      "text/plain": [
       "'Classic Vanilla Cake'"
      ]
     },
     "execution_count": 12,
     "metadata": {},
     "output_type": "execute_result"
    }
   ],
   "source": [
    "recipe_name = recipe.get('name')\n",
    "recipe_name"
   ]
  },
  {
   "cell_type": "code",
   "execution_count": 13,
   "metadata": {},
   "outputs": [
    {
     "data": {
      "text/plain": [
       "\"Here's a step-by-step guide to baking a classic vanilla cake:\\n\\n1. Preheat the oven to 350°F (175°C) and prepare two 9-inch round cake pans with non-stick cooking spray.\\n\\n2. In a medium-sized bowl, whisk together 2 1/4 cups of all-purpose flour, 2 teaspoons of baking powder, 1 teaspoon of baking soda, and 1 teaspoon of salt. Set aside.\\n\\n3. In a large mixing bowl, use an electric mixer to cream together 1 cup of unsalted butter and 1 3/4 cups of granulated sugar until light and fluffy.\\n\\n4. Beat in 3 large eggs one at a time, allowing each egg to fully incorporate before adding the next.\\n\\n5. Beat in 2 teaspoons of vanilla extract.\\n\\n6. With the mixer on low speed, gradually add the flour mixture to the wet ingredients in three parts, alternating with 1 cup of milk, beginning and ending with the flour mixture. Beat just until combined.\\n\\n7. Divide the batter evenly between the prepared pans and smooth the tops.\\n\\n8. Bake for 30-35 minutes, or until a toothpick inserted into the center of each cake comes out clean.\\n\\n9. Remove the cakes from the oven and let them cool in the pans for 10 minutes before transferring them to a wire rack to cool completely.\""
      ]
     },
     "execution_count": 13,
     "metadata": {},
     "output_type": "execute_result"
    }
   ],
   "source": [
    "instructions = recipe.get('instructions')\n",
    "instructions"
   ]
  },
  {
   "cell_type": "code",
   "execution_count": 14,
   "metadata": {},
   "outputs": [
    {
     "data": {
      "text/plain": [
       "['all-purpose flour',\n",
       " 'baking powder',\n",
       " 'baking soda',\n",
       " 'salt',\n",
       " 'granulated sugar',\n",
       " 'unsalted butter',\n",
       " 'large eggs',\n",
       " 'vanilla extract',\n",
       " 'milk']"
      ]
     },
     "execution_count": 14,
     "metadata": {},
     "output_type": "execute_result"
    }
   ],
   "source": [
    "ingredients = recipe.get('ingredients')\n",
    "ingredients"
   ]
  },
  {
   "cell_type": "markdown",
   "metadata": {},
   "source": [
    "['All-purpose flour',\n",
    " 'Granulated sugar',\n",
    " 'Unsalted butter, softened',\n",
    " 'Large eggs, at room temperature',\n",
    " 'Whole milk, at room temperature',\n",
    " 'Pure vanilla extract']"
   ]
  },
  {
   "cell_type": "code",
   "execution_count": 15,
   "metadata": {},
   "outputs": [
    {
     "data": {
      "text/plain": [
       "['9-inch round cake pans',\n",
       " 'non-stick cooking spray',\n",
       " 'mixing bowls',\n",
       " 'measuring cups',\n",
       " 'electric mixer',\n",
       " 'whisk',\n",
       " 'rubber spatula']"
      ]
     },
     "execution_count": 15,
     "metadata": {},
     "output_type": "execute_result"
    }
   ],
   "source": [
    "items = recipe.get('items')\n",
    "items"
   ]
  },
  {
   "cell_type": "code",
   "execution_count": 19,
   "metadata": {},
   "outputs": [],
   "source": [
    "df_copy = filtered_df.copy()"
   ]
  },
  {
   "cell_type": "code",
   "execution_count": null,
   "metadata": {},
   "outputs": [],
   "source": [
    "corpus.index('unbleached all purpose flour')"
   ]
  },
  {
   "cell_type": "code",
   "execution_count": null,
   "metadata": {},
   "outputs": [
    {
     "name": "stdout",
     "output_type": "stream",
     "text": [
      "['unbleached all purpose flour']\n",
      "['unbleached all purpose flour', 'baking powder']\n",
      "['unbleached all purpose flour', 'baking powder', 'baking soda']\n",
      "['unbleached all purpose flour', 'baking powder', 'baking soda', 'sea salt']\n",
      "['unbleached all purpose flour', 'baking powder', 'baking soda', 'sea salt', 'sugar']\n",
      "['unbleached all purpose flour', 'baking powder', 'baking soda', 'sea salt', 'sugar', 'unsalted butter']\n",
      "['unbleached all purpose flour', 'baking powder', 'baking soda', 'sea salt', 'sugar', 'unsalted butter', 'eggs']\n",
      "['unbleached all purpose flour', 'baking powder', 'baking soda', 'sea salt', 'sugar', 'unsalted butter', 'eggs', 'vanilla milkshake with real vanilla extracts']\n",
      "['unbleached all purpose flour', 'baking powder', 'baking soda', 'sea salt', 'sugar', 'unsalted butter', 'eggs', 'vanilla milkshake with real vanilla extracts', 'chocolate   milk']\n"
     ]
    }
   ],
   "source": [
    "def item_search(items):\n",
    "    df_list = []\n",
    "    for item in items:\n",
    "        a=db_load.similarity_search_with_relevance_scores(item,k=1)\n",
    "        page_content = a[0][0].page_content\n",
    "        score = a[0][1]\n",
    "        df_list.append(page_content)\n",
    "        \n",
    "item_search(ingredients)"
   ]
  },
  {
   "cell_type": "code",
   "execution_count": 33,
   "metadata": {},
   "outputs": [
    {
     "data": {
      "text/html": [
       "<div>\n",
       "<style scoped>\n",
       "    .dataframe tbody tr th:only-of-type {\n",
       "        vertical-align: middle;\n",
       "    }\n",
       "\n",
       "    .dataframe tbody tr th {\n",
       "        vertical-align: top;\n",
       "    }\n",
       "\n",
       "    .dataframe thead th {\n",
       "        text-align: right;\n",
       "    }\n",
       "</style>\n",
       "<table border=\"1\" class=\"dataframe\">\n",
       "  <thead>\n",
       "    <tr style=\"text-align: right;\">\n",
       "      <th></th>\n",
       "      <th>product</th>\n",
       "      <th>category</th>\n",
       "      <th>sub_category</th>\n",
       "      <th>brand</th>\n",
       "      <th>sale_price</th>\n",
       "      <th>market_price</th>\n",
       "      <th>type</th>\n",
       "      <th>rating</th>\n",
       "      <th>description</th>\n",
       "    </tr>\n",
       "  </thead>\n",
       "  <tbody>\n",
       "  </tbody>\n",
       "</table>\n",
       "</div>"
      ],
      "text/plain": [
       "Empty DataFrame\n",
       "Columns: [product, category, sub_category, brand, sale_price, market_price, type, rating, description]\n",
       "Index: []"
      ]
     },
     "execution_count": 33,
     "metadata": {},
     "output_type": "execute_result"
    }
   ],
   "source": [
    "df_copy[df_copy['product'].isin(df_list)]"
   ]
  },
  {
   "cell_type": "code",
   "execution_count": 20,
   "metadata": {},
   "outputs": [
    {
     "ename": "KeyError",
     "evalue": "'unbleached all purpose flour'",
     "output_type": "error",
     "traceback": [
      "\u001b[1;31m---------------------------------------------------------------------------\u001b[0m",
      "\u001b[1;31mKeyError\u001b[0m                                  Traceback (most recent call last)",
      "File \u001b[1;32me:\\python\\2.PROJECTS\\cook_bot\\venv\\lib\\site-packages\\pandas\\core\\indexes\\base.py:3805\u001b[0m, in \u001b[0;36mIndex.get_loc\u001b[1;34m(self, key)\u001b[0m\n\u001b[0;32m   3804\u001b[0m \u001b[38;5;28;01mtry\u001b[39;00m:\n\u001b[1;32m-> 3805\u001b[0m     \u001b[38;5;28;01mreturn\u001b[39;00m \u001b[38;5;28;43mself\u001b[39;49m\u001b[38;5;241;43m.\u001b[39;49m\u001b[43m_engine\u001b[49m\u001b[38;5;241;43m.\u001b[39;49m\u001b[43mget_loc\u001b[49m\u001b[43m(\u001b[49m\u001b[43mcasted_key\u001b[49m\u001b[43m)\u001b[49m\n\u001b[0;32m   3806\u001b[0m \u001b[38;5;28;01mexcept\u001b[39;00m \u001b[38;5;167;01mKeyError\u001b[39;00m \u001b[38;5;28;01mas\u001b[39;00m err:\n",
      "File \u001b[1;32mindex.pyx:167\u001b[0m, in \u001b[0;36mpandas._libs.index.IndexEngine.get_loc\u001b[1;34m()\u001b[0m\n",
      "File \u001b[1;32mindex.pyx:196\u001b[0m, in \u001b[0;36mpandas._libs.index.IndexEngine.get_loc\u001b[1;34m()\u001b[0m\n",
      "File \u001b[1;32mpandas\\\\_libs\\\\hashtable_class_helper.pxi:7081\u001b[0m, in \u001b[0;36mpandas._libs.hashtable.PyObjectHashTable.get_item\u001b[1;34m()\u001b[0m\n",
      "File \u001b[1;32mpandas\\\\_libs\\\\hashtable_class_helper.pxi:7089\u001b[0m, in \u001b[0;36mpandas._libs.hashtable.PyObjectHashTable.get_item\u001b[1;34m()\u001b[0m\n",
      "\u001b[1;31mKeyError\u001b[0m: 'unbleached all purpose flour'",
      "\nThe above exception was the direct cause of the following exception:\n",
      "\u001b[1;31mKeyError\u001b[0m                                  Traceback (most recent call last)",
      "Cell \u001b[1;32mIn[20], line 11\u001b[0m\n\u001b[0;32m      9\u001b[0m             df_list\u001b[38;5;241m.\u001b[39mappend(b)\n\u001b[0;32m     10\u001b[0m     \u001b[38;5;28;01mreturn\u001b[39;00m df_list\n\u001b[1;32m---> 11\u001b[0m df_list \u001b[38;5;241m=\u001b[39m \u001b[43mitem_search\u001b[49m\u001b[43m(\u001b[49m\u001b[43mingredients\u001b[49m\u001b[43m)\u001b[49m\n",
      "Cell \u001b[1;32mIn[20], line 8\u001b[0m, in \u001b[0;36mitem_search\u001b[1;34m(items)\u001b[0m\n\u001b[0;32m      6\u001b[0m     score \u001b[38;5;241m=\u001b[39m a[\u001b[38;5;241m0\u001b[39m][\u001b[38;5;241m1\u001b[39m]\n\u001b[0;32m      7\u001b[0m     \u001b[38;5;28;01mif\u001b[39;00m score \u001b[38;5;241m>\u001b[39m\u001b[38;5;241m0.65\u001b[39m:\n\u001b[1;32m----> 8\u001b[0m         b \u001b[38;5;241m=\u001b[39m df_copy\u001b[38;5;241m.\u001b[39mindex[\u001b[43mdf_copy\u001b[49m\u001b[43m[\u001b[49m\u001b[43mpage_content\u001b[49m\u001b[43m]\u001b[49m]\n\u001b[0;32m      9\u001b[0m         df_list\u001b[38;5;241m.\u001b[39mappend(b)\n\u001b[0;32m     10\u001b[0m \u001b[38;5;28;01mreturn\u001b[39;00m df_list\n",
      "File \u001b[1;32me:\\python\\2.PROJECTS\\cook_bot\\venv\\lib\\site-packages\\pandas\\core\\frame.py:4102\u001b[0m, in \u001b[0;36mDataFrame.__getitem__\u001b[1;34m(self, key)\u001b[0m\n\u001b[0;32m   4100\u001b[0m \u001b[38;5;28;01mif\u001b[39;00m \u001b[38;5;28mself\u001b[39m\u001b[38;5;241m.\u001b[39mcolumns\u001b[38;5;241m.\u001b[39mnlevels \u001b[38;5;241m>\u001b[39m \u001b[38;5;241m1\u001b[39m:\n\u001b[0;32m   4101\u001b[0m     \u001b[38;5;28;01mreturn\u001b[39;00m \u001b[38;5;28mself\u001b[39m\u001b[38;5;241m.\u001b[39m_getitem_multilevel(key)\n\u001b[1;32m-> 4102\u001b[0m indexer \u001b[38;5;241m=\u001b[39m \u001b[38;5;28;43mself\u001b[39;49m\u001b[38;5;241;43m.\u001b[39;49m\u001b[43mcolumns\u001b[49m\u001b[38;5;241;43m.\u001b[39;49m\u001b[43mget_loc\u001b[49m\u001b[43m(\u001b[49m\u001b[43mkey\u001b[49m\u001b[43m)\u001b[49m\n\u001b[0;32m   4103\u001b[0m \u001b[38;5;28;01mif\u001b[39;00m is_integer(indexer):\n\u001b[0;32m   4104\u001b[0m     indexer \u001b[38;5;241m=\u001b[39m [indexer]\n",
      "File \u001b[1;32me:\\python\\2.PROJECTS\\cook_bot\\venv\\lib\\site-packages\\pandas\\core\\indexes\\base.py:3812\u001b[0m, in \u001b[0;36mIndex.get_loc\u001b[1;34m(self, key)\u001b[0m\n\u001b[0;32m   3807\u001b[0m     \u001b[38;5;28;01mif\u001b[39;00m \u001b[38;5;28misinstance\u001b[39m(casted_key, \u001b[38;5;28mslice\u001b[39m) \u001b[38;5;129;01mor\u001b[39;00m (\n\u001b[0;32m   3808\u001b[0m         \u001b[38;5;28misinstance\u001b[39m(casted_key, abc\u001b[38;5;241m.\u001b[39mIterable)\n\u001b[0;32m   3809\u001b[0m         \u001b[38;5;129;01mand\u001b[39;00m \u001b[38;5;28many\u001b[39m(\u001b[38;5;28misinstance\u001b[39m(x, \u001b[38;5;28mslice\u001b[39m) \u001b[38;5;28;01mfor\u001b[39;00m x \u001b[38;5;129;01min\u001b[39;00m casted_key)\n\u001b[0;32m   3810\u001b[0m     ):\n\u001b[0;32m   3811\u001b[0m         \u001b[38;5;28;01mraise\u001b[39;00m InvalidIndexError(key)\n\u001b[1;32m-> 3812\u001b[0m     \u001b[38;5;28;01mraise\u001b[39;00m \u001b[38;5;167;01mKeyError\u001b[39;00m(key) \u001b[38;5;28;01mfrom\u001b[39;00m \u001b[38;5;21;01merr\u001b[39;00m\n\u001b[0;32m   3813\u001b[0m \u001b[38;5;28;01mexcept\u001b[39;00m \u001b[38;5;167;01mTypeError\u001b[39;00m:\n\u001b[0;32m   3814\u001b[0m     \u001b[38;5;66;03m# If we have a listlike key, _check_indexing_error will raise\u001b[39;00m\n\u001b[0;32m   3815\u001b[0m     \u001b[38;5;66;03m#  InvalidIndexError. Otherwise we fall through and re-raise\u001b[39;00m\n\u001b[0;32m   3816\u001b[0m     \u001b[38;5;66;03m#  the TypeError.\u001b[39;00m\n\u001b[0;32m   3817\u001b[0m     \u001b[38;5;28mself\u001b[39m\u001b[38;5;241m.\u001b[39m_check_indexing_error(key)\n",
      "\u001b[1;31mKeyError\u001b[0m: 'unbleached all purpose flour'"
     ]
    }
   ],
   "source": [
    "def item_search(items):\n",
    "    df_list = []\n",
    "    for item in items:\n",
    "        a=db_load.similarity_search_with_relevance_scores(item,k=1)\n",
    "        page_content = a[0][0].page_content\n",
    "        score = a[0][1]\n",
    "        if score >0.65:\n",
    "            b = df_copy.index[df_copy[page_content]]\n",
    "            df_list.append(b)\n",
    "    return df_list\n",
    "df_list = item_search(ingredients)"
   ]
  },
  {
   "cell_type": "code",
   "execution_count": null,
   "metadata": {},
   "outputs": [],
   "source": [
    "df_copy.index[df_copy['']]"
   ]
  },
  {
   "cell_type": "code",
   "execution_count": 46,
   "metadata": {},
   "outputs": [
    {
     "data": {
      "text/plain": [
       "[9048, 5371, 8979, 3764, 4604, 10648, 984, 460]"
      ]
     },
     "execution_count": 46,
     "metadata": {},
     "output_type": "execute_result"
    }
   ],
   "source": [
    "df_list"
   ]
  },
  {
   "cell_type": "code",
   "execution_count": 1,
   "metadata": {},
   "outputs": [],
   "source": [
    "df_list = [9048, 5371, 8979, 3764, 4604, 10648, 984, 460]"
   ]
  },
  {
   "cell_type": "code",
   "execution_count": 47,
   "metadata": {},
   "outputs": [
    {
     "data": {
      "text/html": [
       "<div>\n",
       "<style scoped>\n",
       "    .dataframe tbody tr th:only-of-type {\n",
       "        vertical-align: middle;\n",
       "    }\n",
       "\n",
       "    .dataframe tbody tr th {\n",
       "        vertical-align: top;\n",
       "    }\n",
       "\n",
       "    .dataframe thead th {\n",
       "        text-align: right;\n",
       "    }\n",
       "</style>\n",
       "<table border=\"1\" class=\"dataframe\">\n",
       "  <thead>\n",
       "    <tr style=\"text-align: right;\">\n",
       "      <th></th>\n",
       "      <th>product</th>\n",
       "      <th>category</th>\n",
       "      <th>sub_category</th>\n",
       "      <th>brand</th>\n",
       "      <th>sale_price</th>\n",
       "      <th>market_price</th>\n",
       "      <th>type</th>\n",
       "      <th>rating</th>\n",
       "      <th>description</th>\n",
       "    </tr>\n",
       "  </thead>\n",
       "  <tbody>\n",
       "    <tr>\n",
       "      <th>9048</th>\n",
       "      <td>Unbleached All Purpose Flour</td>\n",
       "      <td>Gourmet &amp; World Food</td>\n",
       "      <td>Cooking &amp; Baking Needs</td>\n",
       "      <td>American Pancake Co.</td>\n",
       "      <td>166.50</td>\n",
       "      <td>185.0</td>\n",
       "      <td>Flours &amp; Pre-Mixes</td>\n",
       "      <td>4.6</td>\n",
       "      <td>At the American Pancake Co. we are all about m...</td>\n",
       "    </tr>\n",
       "    <tr>\n",
       "      <th>5371</th>\n",
       "      <td>Baking Powder</td>\n",
       "      <td>Gourmet &amp; World Food</td>\n",
       "      <td>Cooking &amp; Baking Needs</td>\n",
       "      <td>Puramate</td>\n",
       "      <td>27.00</td>\n",
       "      <td>30.0</td>\n",
       "      <td>Baking, Cake Decorations</td>\n",
       "      <td>4.3</td>\n",
       "      <td>Baking Powder is a leavening agent &amp; it reacts...</td>\n",
       "    </tr>\n",
       "    <tr>\n",
       "      <th>8979</th>\n",
       "      <td>Baking Soda</td>\n",
       "      <td>Gourmet &amp; World Food</td>\n",
       "      <td>Cooking &amp; Baking Needs</td>\n",
       "      <td>Purix</td>\n",
       "      <td>90.25</td>\n",
       "      <td>95.0</td>\n",
       "      <td>Baking, Cake Decorations</td>\n",
       "      <td>NaN</td>\n",
       "      <td>Baking Soda a leavening agent &amp; it reacts with...</td>\n",
       "    </tr>\n",
       "    <tr>\n",
       "      <th>3764</th>\n",
       "      <td>Sea Salt</td>\n",
       "      <td>Foodgrains, Oil &amp; Masala</td>\n",
       "      <td>Salt, Sugar &amp; Jaggery</td>\n",
       "      <td>NaturoBell</td>\n",
       "      <td>180.00</td>\n",
       "      <td>180.0</td>\n",
       "      <td>Salts</td>\n",
       "      <td>4.2</td>\n",
       "      <td>Sea Salt Is The Natural Salt That Is Produced ...</td>\n",
       "    </tr>\n",
       "    <tr>\n",
       "      <th>4604</th>\n",
       "      <td>Sugar</td>\n",
       "      <td>Foodgrains, Oil &amp; Masala</td>\n",
       "      <td>Salt, Sugar &amp; Jaggery</td>\n",
       "      <td>bb Popular</td>\n",
       "      <td>202.95</td>\n",
       "      <td>275.0</td>\n",
       "      <td>Sugar &amp; Jaggery</td>\n",
       "      <td>4.0</td>\n",
       "      <td>Sugar is a generalized name for sweet. Sugar i...</td>\n",
       "    </tr>\n",
       "    <tr>\n",
       "      <th>10648</th>\n",
       "      <td>Unsalted Butter</td>\n",
       "      <td>Bakery, Cakes &amp; Dairy</td>\n",
       "      <td>Dairy</td>\n",
       "      <td>Amul</td>\n",
       "      <td>48.00</td>\n",
       "      <td>49.0</td>\n",
       "      <td>Butter &amp; Margarine</td>\n",
       "      <td>4.2</td>\n",
       "      <td>Butter in its purest form, made of cream with ...</td>\n",
       "    </tr>\n",
       "    <tr>\n",
       "      <th>984</th>\n",
       "      <td>Eggs</td>\n",
       "      <td>Eggs, Meat &amp; Fish</td>\n",
       "      <td>Eggs</td>\n",
       "      <td>Ayur Plus</td>\n",
       "      <td>75.00</td>\n",
       "      <td>75.0</td>\n",
       "      <td>Farm Eggs</td>\n",
       "      <td>NaN</td>\n",
       "      <td>Ayur Egg+ hens are fed with highly nutritious ...</td>\n",
       "    </tr>\n",
       "    <tr>\n",
       "      <th>460</th>\n",
       "      <td>Chocolate - Milk</td>\n",
       "      <td>Gourmet &amp; World Food</td>\n",
       "      <td>Cooking &amp; Baking Needs</td>\n",
       "      <td>Ask Foods</td>\n",
       "      <td>85.00</td>\n",
       "      <td>85.0</td>\n",
       "      <td>Cooking Chocolate, Cocoa</td>\n",
       "      <td>4.0</td>\n",
       "      <td>Chocolate compounds for making chocolate &amp; Cakes.</td>\n",
       "    </tr>\n",
       "  </tbody>\n",
       "</table>\n",
       "</div>"
      ],
      "text/plain": [
       "                            product                  category  \\\n",
       "9048   Unbleached All Purpose Flour      Gourmet & World Food   \n",
       "5371                  Baking Powder      Gourmet & World Food   \n",
       "8979                    Baking Soda      Gourmet & World Food   \n",
       "3764                       Sea Salt  Foodgrains, Oil & Masala   \n",
       "4604                          Sugar  Foodgrains, Oil & Masala   \n",
       "10648               Unsalted Butter     Bakery, Cakes & Dairy   \n",
       "984                            Eggs         Eggs, Meat & Fish   \n",
       "460                Chocolate - Milk      Gourmet & World Food   \n",
       "\n",
       "                 sub_category                 brand  sale_price  market_price  \\\n",
       "9048   Cooking & Baking Needs  American Pancake Co.      166.50         185.0   \n",
       "5371   Cooking & Baking Needs              Puramate       27.00          30.0   \n",
       "8979   Cooking & Baking Needs                 Purix       90.25          95.0   \n",
       "3764    Salt, Sugar & Jaggery            NaturoBell      180.00         180.0   \n",
       "4604    Salt, Sugar & Jaggery            bb Popular      202.95         275.0   \n",
       "10648                   Dairy                  Amul       48.00          49.0   \n",
       "984                      Eggs             Ayur Plus       75.00          75.0   \n",
       "460    Cooking & Baking Needs             Ask Foods       85.00          85.0   \n",
       "\n",
       "                           type  rating  \\\n",
       "9048         Flours & Pre-Mixes     4.6   \n",
       "5371   Baking, Cake Decorations     4.3   \n",
       "8979   Baking, Cake Decorations     NaN   \n",
       "3764                      Salts     4.2   \n",
       "4604            Sugar & Jaggery     4.0   \n",
       "10648        Butter & Margarine     4.2   \n",
       "984                   Farm Eggs     NaN   \n",
       "460    Cooking Chocolate, Cocoa     4.0   \n",
       "\n",
       "                                             description  \n",
       "9048   At the American Pancake Co. we are all about m...  \n",
       "5371   Baking Powder is a leavening agent & it reacts...  \n",
       "8979   Baking Soda a leavening agent & it reacts with...  \n",
       "3764   Sea Salt Is The Natural Salt That Is Produced ...  \n",
       "4604   Sugar is a generalized name for sweet. Sugar i...  \n",
       "10648  Butter in its purest form, made of cream with ...  \n",
       "984    Ayur Egg+ hens are fed with highly nutritious ...  \n",
       "460    Chocolate compounds for making chocolate & Cakes.  "
      ]
     },
     "execution_count": 47,
     "metadata": {},
     "output_type": "execute_result"
    }
   ],
   "source": [
    "df_copy.loc[df_list]"
   ]
  }
 ],
 "metadata": {
  "kernelspec": {
   "display_name": "Python 3",
   "language": "python",
   "name": "python3"
  },
  "language_info": {
   "codemirror_mode": {
    "name": "ipython",
    "version": 3
   },
   "file_extension": ".py",
   "mimetype": "text/x-python",
   "name": "python",
   "nbconvert_exporter": "python",
   "pygments_lexer": "ipython3",
   "version": "3.10.10"
  }
 },
 "nbformat": 4,
 "nbformat_minor": 2
}
